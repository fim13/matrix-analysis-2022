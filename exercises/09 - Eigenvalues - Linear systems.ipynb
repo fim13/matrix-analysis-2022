{
 "cells": [
  {
   "cell_type": "markdown",
   "id": "6853bdc5-c7dd-4a8a-a7b8-4383f570c879",
   "metadata": {},
   "source": [
    "# Matrix Analysis 2022 - EE312\n",
    "## Week 9 - Eigenvalues\n",
    "[LTS2](https://lts2.epfl.ch)\n",
    "\n",
    "## Important\n",
    "You need to submit *individually* your answers on moodle before the next exercise session (i.e. Monday or Friday depending if you are BA4/BA6). Answers to theoretical questions can be either written in the notebook or submitted separately.\n"
   ]
  },
  {
   "cell_type": "markdown",
   "id": "5ac2c24c-742f-4884-80e4-e70d2b62c493",
   "metadata": {},
   "source": [
    "## 1. RLC circuit\n",
    "Let us consider a serial RLC circuit with a voltage source delivering a tension $v(t)$. A current $i(t)$ goes through the circuit. We denote by $v_R(t)$, $v_L(t)$, $v_C(t)$ the voltages in the circuit.\n",
    "\n",
    "![RLC.png](../exercises/images/RLC.png)\n",
    "\n",
    "Reminder: \n",
    "- $v_L(t) = L\\frac{di(t)}{dt}$\n",
    "- $\\frac{dv_C(t)}{dt} = \\frac{1}{C}i(t)$\n",
    "\n",
    "**1.1** Using Ohm and Kirchoff laws, write the matrix first order differential equation describing the system. You can use $X(t) = \\begin{pmatrix}v_C(t)\\\\i(t)\\end{pmatrix}$."
   ]
  },
  {
   "cell_type": "markdown",
   "id": "881b51bb",
   "metadata": {},
   "source": [
    "$\\frac{d}{dt}X(t) = A X(t) + b(t)$\n",
    "\n",
    "with $v(t) = v_R(t) + v_L(t) + v_C(t) = R i(t) + L\\frac{di(t)}{dt} + v_C(t)$ \n",
    "\n",
    "$ \\Rightarrow A = \\begin{pmatrix}\n",
    "0 & \\frac{1}{C}\\\\\n",
    "-\\frac{1}{L} & -\\frac{R}{L} \\\\\n",
    "\\end{pmatrix} \\qquad \\text{ and } \\qquad b(t) = \\begin{pmatrix}0\\\\ \\frac{v(t)}{L} \\end{pmatrix}$"
   ]
  },
  {
   "cell_type": "markdown",
   "id": "76b84274-9242-400f-895a-6ef92cd7eda8",
   "metadata": {},
   "source": [
    "**1.2** What are the eigenvalues of the matrix in the equation you obtained ?"
   ]
  },
  {
   "cell_type": "markdown",
   "id": "5d38e1c8-9194-4267-bec9-da5c5202b407",
   "metadata": {},
   "source": [
    "$\\lambda_{1,2}  = \\frac{1}{2L}\\left(-R \\pm \\sqrt{R^2 - 4 \\frac{L}{C}} \\right)$"
   ]
  },
  {
   "cell_type": "markdown",
   "id": "bb3b203e-8c3d-4229-b4ae-f80f50ecd1f4",
   "metadata": {},
   "source": [
    "**1.3** Assuming $v(t) = 0$ and $X(0) = X_0$, compute $X(t)$"
   ]
  },
  {
   "cell_type": "markdown",
   "id": "ccd02535-6ffd-4f96-8cec-819da1674fb1",
   "metadata": {},
   "source": [
    "we have $x(t) = e^{(t-t_0)A}x_0$ with the spectral theorem we have $e^A = P e^{D} P^{-1}$ where $A = PDP^{-1}$ and $D$ is diagonal.\n",
    "\n",
    "$\\Rightarrow x(t) = P\\begin{pmatrix} \n",
    "e^{(t-t_0)\\lambda_1} & 0\\\\\n",
    "0 & e^{(t-t_0)\\lambda_2}\\\\\n",
    "\\end{pmatrix}\n",
    "P^{-1}\n",
    "$"
   ]
  },
  {
   "cell_type": "markdown",
   "id": "ba32d70a-12d0-494c-998e-d2f0f5b9ac9b",
   "metadata": {},
   "source": [
    "**1.4** Let us use fixed $L$ and $C$ values. For which values of $R$ do we have real or complex eigenvalues ? Compute the limit value of $R$ for $L=40mH$ and $C=10nF$."
   ]
  },
  {
   "cell_type": "markdown",
   "id": "968eb2e6-3e47-4487-8489-4396991769a6",
   "metadata": {},
   "source": [
    "real: $\\Delta = b^2 - 4ac = R^2 - 4\\frac{L}{C} \\geq 0 \\Leftrightarrow R >= 2\\sqrt{\\frac{L}{C}}$\n",
    "\n",
    "$R_{lim} = 2 \\sqrt{\\frac{40mH}{10nF}} = 4 k\\Omega$ "
   ]
  },
  {
   "cell_type": "markdown",
   "id": "bd195659-ae7f-4af9-93ef-5813666245e5",
   "metadata": {},
   "source": [
    "**1.5** Using $X_0=\\begin{pmatrix}1.5\\\\ 10^{-3}\\end{pmatrix}$ as initial conditions and (at least) two carefully chosen values of $R$, compute the solutions $v_C(t)$ and $i(t)$ and plot them. Be careful when computing and plotting the solutions, make sure you use the appropriate time range ! (hint: checking the value of the imaginary part of the eigenvalues might help). Discuss the different cases (do not forget the case $R=R_L$). You might use the [expm](https://docs.scipy.org/doc/scipy/reference/generated/scipy.linalg.expm.html) function from scipy to compute a matrix exponential."
   ]
  },
  {
   "cell_type": "code",
   "execution_count": null,
   "id": "cd1b6aca-9f22-4865-95e5-910cda5d394d",
   "metadata": {},
   "outputs": [],
   "source": [
    "import numpy as np\n",
    "import matplotlib.pyplot as plt\n",
    "from scipy.linalg import expm\n"
   ]
  },
  {
   "cell_type": "code",
   "execution_count": null,
   "id": "3dcc667a-860b-447d-851f-b6bcd762d187",
   "metadata": {},
   "outputs": [],
   "source": [
    "def matrix(R, L, C):\n",
    "    return np.array([[0, 1/C],[-1/L, -R/L]])\n",
    "\n",
    "def plot_time(t, A, X_0):\n",
    "    res = np.array([\n",
    "        expm(_t*A)@X_0\n",
    "        for _t in t \n",
    "    ])\n",
    "    fig,ax = plt.subplots()\n",
    "    ax.plot(t, res[:,0]) \n",
    "    ax.set_ylabel(\"voltage [V]\")\n",
    "    ax.set_xlabel(\"time\")\n",
    "    ax2 = ax.twinx()\n",
    "    ax2.plot(t, res[:,1], color=\"red\")\n",
    "    ax2.set_ylabel(\"current [I]\")\n",
    "    fig.legend([\"V\",\"I\"])\n",
    "    plt.show()\n",
    "\n",
    "def time(T):\n",
    "    return np.linspace(0, T, 1000)"
   ]
  },
  {
   "cell_type": "code",
   "execution_count": null,
   "id": "be6879da-7aad-4caf-a6e2-8653f62aa422",
   "metadata": {},
   "outputs": [],
   "source": [
    "x_0 = np.array([1.5, 1e-3])\n",
    "\n",
    "L = 4e-2\n",
    "C = 1e-8\n",
    "R1 = 400\n",
    "R_Lim = 4000\n",
    "R3 = 40000\n",
    "\n",
    "plot_time(time(1e-3), matrix(R1, L, C), x_0)\n",
    "plot_time(time(1e-4), matrix(R_Lim, L, C), x_0)\n",
    "plot_time(time(1e-5), matrix(R3, L, C), x_0)"
   ]
  },
  {
   "cell_type": "markdown",
   "id": "65a495d0-caf6-4ce4-9f1a-5f378cb5fe32",
   "metadata": {},
   "source": [
    "## 2. Dynamics of opinion diffusion"
   ]
  },
  {
   "cell_type": "markdown",
   "id": "8657e57d-19a5-4278-9d43-eb56bd1dc44a",
   "metadata": {},
   "source": [
    "Consider the dynamics of opinion diffusion among $N$ people sitting in a **ring-shaped structure**. Each individual is connected to her two nearest neighbors (i.e., left and right). Initially they have random opinions (represented as random real numbers), but at every time step, each individual changes his opinion depending on the social neighborhood. If we denote by $x_p(k)$ the value of the $p$-th individual at time step $k$, we will consider the following update rule:\n",
    "\n",
    "$x_p(k+1) = (1 - 2\\alpha)x_p(k) + \\alpha(x_{p-1}(k) + x_{p+1}(k))$, $\\alpha$ being a real-valued parameter.\n",
    "\n",
    "Let us denote by $X(k) = \\begin{pmatrix}x_1(k)\\\\x_2(k)\\\\ \\vdots \\\\ x_N(k)\\end{pmatrix}$.\n",
    "\n",
    "**2.1** Write $X(k+1)$ as a function of $X(k)$ and as a function of X(0)."
   ]
  },
  {
   "cell_type": "markdown",
   "id": "843156e7-d6b0-4f09-a40c-70616330cb11",
   "metadata": {},
   "source": [
    "$X(k+1) = A X(k) = A^{k+1} X(0)$ with $A=\\begin{pmatrix}1-2\\alpha & \\alpha & & \\alpha\\\\ \\alpha & 1-2\\alpha & \\ddots & \\\\ &  \\ddots & \\ddots & \\alpha\\\\ \\alpha&&\\alpha & 1-2\\alpha\\end{pmatrix}$"
   ]
  },
  {
   "cell_type": "markdown",
   "id": "5ecc62ca-0f48-4264-9123-def987146002",
   "metadata": {},
   "source": [
    "**2.2** Using a vector containing $N$ random values for $X(0)$ implement a function that computes $X(k)$. Make sure you use as few matrix multiplications as possible."
   ]
  },
  {
   "cell_type": "code",
   "execution_count": null,
   "id": "e239dc94-da70-4254-b925-9e44bd5ca344",
   "metadata": {},
   "outputs": [],
   "source": [
    "def update_matrix(N, alpha):\n",
    "    return np.array(\n",
    "        [\n",
    "            [\n",
    "                1 - 2*alpha if i == j else alpha if np.abs(i - j)==1 or np.abs(i - j)==N-1  else 0\n",
    "                for j in range(N)\n",
    "            ]\n",
    "            for i in range(N)\n",
    "        ]\n",
    "    )\n",
    "\n",
    "def compute_opinions(x0, update_matrix, num_steps):\n",
    "    return np.linalg.matrix_power(update_matrix, num_steps)@x0"
   ]
  },
  {
   "cell_type": "code",
   "execution_count": null,
   "id": "1dcf3497-7d9a-478a-9684-e339b46ec05e",
   "metadata": {},
   "outputs": [],
   "source": [
    "print( update_matrix(6, 0.25))\n",
    "compute_opinions(0.5*np.ones(6) + 0.2*np.random.rand(6), update_matrix(6, 0.25), 50)"
   ]
  },
  {
   "cell_type": "markdown",
   "id": "767545d0-b113-4726-b7c3-5991162e652f",
   "metadata": {},
   "source": [
    "**2.3** What are the eigenvalues of the matrix of the system ?\n",
    "\n",
    "Hint: This result about circulant matrices might be helpful:\n",
    "\n",
    "A $N\\times N$ circulant matrix $C$ defined by:\n",
    "\n",
    "$C = \\begin{pmatrix}\n",
    "c_1 & c_N & ... & c_3 & c_2\\\\\n",
    "c_2 & c_1 & c_N & ... & c_3\\\\\n",
    "\\vdots & \\vdots & ... & & \\vdots\\\\\n",
    "c_N & c_{N-1} & ... & c_2 & c_1\n",
    "\\end{pmatrix}$\n",
    "\n",
    "has its eigenvalues defined by:\n",
    "\n",
    "$\\lambda_k = c_1 + c_N\\omega^k + c_{N-1}\\omega^{2k} + ... + c_2\\omega^{k(N-1)}, k=0, 1, ..., N-1$ and $\\omega=e^{\\frac{2i\\pi}{N}}$. "
   ]
  },
  {
   "cell_type": "markdown",
   "id": "b92c2486-2c0a-40f1-9b15-d054f979162a",
   "metadata": {},
   "source": [
    "**Answer**\n",
    "We have $c_1 = 1-2\\alpha$, $c_2 = c_N = \\alpha$ and $c_3 = c_4 = ... = c_{N-1} = 0$ \n",
    "\n",
    "Therefore we have $ \\lambda_k = 1-2\\alpha + \\alpha \\omega^k +  \\alpha \\omega^{k(N-1)}  $ and $\\omega=e^{\\frac{2i\\pi}{N}}$\n",
    "\n",
    "$ \\lambda_k =  1 - 2\\alpha + \\alpha e^{\\frac{2i\\pi k}{N}} +  \\alpha e^{\\frac{2i\\pi k(N-1)}{N}}  =  1 - 2\\alpha + \\alpha e^{\\frac{2i\\pi k}{N}} +  \\alpha e^{\\frac{-2i\\pi k}{N}} = 1 - 2\\alpha + \\alpha e^{\\frac{2i\\pi k}{N}} +  \\alpha e^{\\frac{-2i\\pi k}{N}} = 1 - 2\\alpha + 2 \\alpha cos{\\frac{2\\pi k}{N}} $"
   ]
  },
  {
   "cell_type": "markdown",
   "id": "3dc519ea-712a-45bf-be63-ca4160159336",
   "metadata": {},
   "source": [
    "**2.4** Implement a function that returns all opinion values, i.e. a vector $\\begin{pmatrix}X(0)\\\\ X(1)\\\\ X(2)\\\\ \\vdots\\\\ X(p)\\end{pmatrix}$. Plot the evolution of the opinion values. Choose a small value of $N$ (e.g. 5 or 6) and consider $\\alpha\\in[-\\frac{1}{2}, \\frac{1}{2}]$. How many different behaviors can you identify ? How do they relate to the eigenvalues of the update matrix ? "
   ]
  },
  {
   "cell_type": "markdown",
   "id": "9e1831ab-6658-4041-822b-852bfcacf3f8",
   "metadata": {},
   "source": [
    "**Answer** \n",
    "\n",
    "1. $ \\alpha = 0 \\quad \\Rightarrow \\lambda_k = 1  \\qquad\\forall k$ (constant)\n",
    "2. $ \\alpha \\in \\left]0, 1/2\\right[ \\quad \\Rightarrow  \\lambda_k = 1 - 2\\alpha + 2 \\alpha cos{\\frac{2\\pi k}{N}}  \\Rightarrow -1 < \\lambda_k \\leq 1 $  (converge)\n",
    "3. $ \\alpha \\in \\left[-1/2, 0\\right[ \\quad \\Rightarrow \\lambda_k = 1 + 2 |\\alpha| - 2 |\\alpha| cos{\\frac{2\\pi k}{N}}  \\Rightarrow 1 \\leq \\lambda_k \\leq 2$ (diverge)\n",
    "4. $ \\alpha =  1/2 \\quad\\Rightarrow \\lambda_k = cos{\\frac{2\\pi k}{N}} \\Rightarrow \\lambda_N = 1 \\quad \\text{if N even} \\quad \\lambda_{N/2} = -1 $ (oscilation) \n",
    " "
   ]
  },
  {
   "cell_type": "code",
   "execution_count": null,
   "id": "9ed1fb45-7f5a-41db-af49-5e7be3c1a2f5",
   "metadata": {},
   "outputs": [],
   "source": [
    "def compute_opinions_evol(x0, update_matrix, num_steps):\n",
    "    return [\n",
    "        compute_opinions(x0, update_matrix, step)\n",
    "        for step in range(num_steps)\n",
    "    ]"
   ]
  },
  {
   "cell_type": "code",
   "execution_count": null,
   "id": "fcf6e3ba-ddb1-4f85-b52b-77753f2d43d3",
   "metadata": {},
   "outputs": [],
   "source": [
    "num_steps = 50\n",
    "\n",
    "\n",
    "def test_for_N_alpha(N, alpha):\n",
    "    x0 = 0.5*np.ones(N) + 0.2*np.random.rand(N)\n",
    "\n",
    "    A = update_matrix(N, alpha)\n",
    "    plt.plot(range(num_steps), compute_opinions_evol(x0, A, num_steps))\n",
    "    plt.show()\n",
    "\n",
    "\n",
    "\n"
   ]
  },
  {
   "cell_type": "code",
   "execution_count": null,
   "id": "65a2863f",
   "metadata": {},
   "outputs": [],
   "source": [
    "N = 5 \n",
    "test_for_N_alpha(N, -0.1)    # diverges \n",
    "test_for_N_alpha(N, 0)       # staionnairy\n",
    "test_for_N_alpha(N, 0.2)     # converges\n",
    "test_for_N_alpha(N, 0.4)     # converges\n",
    "test_for_N_alpha(N, 0.5)     # converges \"oscilating\" for N ODD\n",
    "test_for_N_alpha(N, 0.55)    # converges slowly \"oscilating\"\n"
   ]
  },
  {
   "cell_type": "code",
   "execution_count": null,
   "id": "d6c09f7f",
   "metadata": {},
   "outputs": [],
   "source": [
    "N = 6\n",
    "test_for_N_alpha(N, -0.1)    # diverges \n",
    "test_for_N_alpha(N, 0)       # staionnairy\n",
    "test_for_N_alpha(N, 0.2)     # converges\n",
    "test_for_N_alpha(N, 0.4)     # converges\n",
    "test_for_N_alpha(N, 0.5)     # oscilates for N EVEN\n",
    "test_for_N_alpha(N, 0.55)    # diverges \"oscilating\" for N EVEN"
   ]
  },
  {
   "cell_type": "code",
   "execution_count": null,
   "id": "f5b91926",
   "metadata": {},
   "outputs": [],
   "source": []
  }
 ],
 "metadata": {
  "interpreter": {
   "hash": "51520dda2ee680b68efdba241f02d256ceec20797e3150cbdc6e7f01601943a7"
  },
  "kernelspec": {
   "display_name": "Python 3.9.7 ('matrix-analysis-2022')",
   "language": "python",
   "name": "python3"
  },
  "language_info": {
   "codemirror_mode": {
    "name": "ipython",
    "version": 3
   },
   "file_extension": ".py",
   "mimetype": "text/x-python",
   "name": "python",
   "nbconvert_exporter": "python",
   "pygments_lexer": "ipython3",
   "version": "3.9.7"
  }
 },
 "nbformat": 4,
 "nbformat_minor": 5
}
