{
 "cells": [
  {
   "cell_type": "markdown",
   "id": "88d644d1-a835-4c4b-8987-0148f1e27129",
   "metadata": {},
   "source": [
    "# Matrix Analysis 2022 - EE312\n",
    "\n",
    "## Week 6 - Discrete Poisson equation \n",
    "[LTS2](https://lts2.epfl.ch)\n",
    "\n",
    "## Important\n",
    "You need to submit *individually* your answers on moodle before the next exercise session (i.e. Monday or Friday depending if you are BA4/BA6). Answers to theoretical questions can be either written in the notebook or submitted separately.\n",
    "\n",
    "### Objectives\n",
    "Apply your knowledge about linear systems to Poisson equation resolution."
   ]
  },
  {
   "cell_type": "markdown",
   "id": "654ad4ee-c060-4bc3-b218-3a6709952750",
   "metadata": {},
   "source": [
    "## Poisson equation\n",
    "Let $u,v \\in \\mathbb{R}^n$  represent a physical quantity $f$ and $g: \\mathbb{R} \\mapsto \\mathbb{R}$ sampled at $n$ equi-spaced locations $x_i$, i.e $u_i = f(x_i)$, $v_i = g(x_i)$. \n",
    "Let us assume that the underlying continuous object satisfies the Poisson equation: $\\frac{d^2}{dx^2} f (x)= g(x)$ with constraints $f(x_j) = y_j$ for a subset of $m$ locations $j \\in \\{i_1, \\ldots i_m \\}$. We will assume that all the $i_k$ are distincts.\n",
    "\n",
    "This equation governs a number of physical principles, e.g. gravity, fluid mechanics and electrostatics. In the latter we have $\\Delta \\varphi = -\\frac{\\rho}{\\varepsilon}$, where $\\Delta$ is the Laplacian operator $(\\frac{d^2}{dx^2} + \\frac{d^2}{dy^2} + \\frac{d^2}{dz^2})$, $\\varphi$ is the electric potential, $\\rho$ the density of electric charges and $\\varepsilon$ the electric permittivity.\n",
    "\n",
    "---"
   ]
  },
  {
   "cell_type": "markdown",
   "id": "c78d6bb5-a38b-416f-b318-9f86746eac50",
   "metadata": {},
   "source": [
    "#### For the sake of simplicity, we will only consider the 1D case.\n",
    "\n",
    "\n",
    "1. Write down a matrix equation for the discrete version of $\\frac{d^2}{dx^2} f (x)= g(x)$, using the finite-difference approximation of the derivative $\\frac{d^2}{dx^2} f  = f(x_{k+1}) - 2f(x_k) +f(x_{k-1})$. For the boundary conditions we will make the assumption that $x_{-1}=x_0$ and $x_{n-1}=x_n$ (also referred to as Dirichlet boundary conditions)\n",
    "\n",
    "What is the rank of the corresponding matrix $D$ ? "
   ]
  },
  {
   "cell_type": "markdown",
   "id": "600fb121",
   "metadata": {},
   "source": [
    "$D = \\left[ \n",
    "    {\\begin{array}{ccccc} \n",
    "        -1 & 1 & \\ldots & & 0\\\\\n",
    "        1 & -2 & 1 & \\ldots & 0 \\\\\n",
    "        \\vdots & &  \\ddots & & \\vdots\\\\\n",
    "        0 & \\ldots & 1 & -2 & 1\\\\\n",
    "        0 & &\\ldots  & 1 & -1\\\\\n",
    "    \\end{array}\n",
    "}\\right] \n",
    "\\sim \\left[ \n",
    "    {\\begin{array}{ccccc} \n",
    "        -1 & 1 & \\ldots & & 0\\\\\n",
    "        0 & -1 & 1 & \\ldots & 0 \\\\\n",
    "        \\vdots & &  \\ddots & & \\vdots\\\\\n",
    "        0 & \\ldots & 0 & -1 & 1\\\\\n",
    "        0 & &\\ldots  & 1 & -1\\\\\n",
    "    \\end{array}\n",
    "}\\right]\n",
    "\\Rightarrow \\text{rank}(D) = n-1\n",
    "$"
   ]
  },
  {
   "cell_type": "markdown",
   "id": "aed76fe2-8cb5-4b28-bd3b-fa0bea113a46",
   "metadata": {},
   "source": [
    "<Your answers here>"
   ]
  },
  {
   "cell_type": "markdown",
   "id": "cceac118-c43d-4782-9f7e-4392e5ecc451",
   "metadata": {},
   "source": [
    "Implement a function that creates the $D$ matrix (also called Laplacian). You should check the [diag](https://numpy.org/doc/stable/reference/generated/numpy.diag.html) function in numpy."
   ]
  },
  {
   "cell_type": "code",
   "execution_count": 70,
   "id": "d41105d8-6933-4ef8-b2f0-c6ac053e1f55",
   "metadata": {},
   "outputs": [],
   "source": [
    "import numpy as np\n",
    "import matplotlib.pyplot as plt\n",
    "\n",
    "def lapl_matrix(N):\n",
    "    return np.zeros((N,N),dtype=np.float64) + np.diag(\n",
    "        [-1 if i == 0 or i == N-1 else -2 for i in range(N)]\n",
    "    ) + np.diag(np.ones(N-1), 1) + np.diag(np.ones(N-1), -1)\n",
    "\n",
    "D=lapl_matrix(5)"
   ]
  },
  {
   "cell_type": "markdown",
   "id": "4cea41dc-6f12-42f2-8644-b51e4918504d",
   "metadata": {},
   "source": [
    "2. Write down a matrix equation for the discrete version of $f(x_j) = y_j$. What is the rank of the corresponding matrix $B$ ?"
   ]
  },
  {
   "cell_type": "markdown",
   "id": "3470da87-d298-4754-829f-89f1021983e9",
   "metadata": {},
   "source": [
    "<Your answers here>"
   ]
  },
  {
   "cell_type": "markdown",
   "id": "418bc83f-7d46-41c2-8a7e-df892857320c",
   "metadata": {},
   "source": [
    "Implement a function that creates matrix $B$"
   ]
  },
  {
   "cell_type": "code",
   "execution_count": 42,
   "id": "1d294eda-7edc-42c2-9640-13bec779bd48",
   "metadata": {},
   "outputs": [
    {
     "data": {
      "text/plain": [
       "array([[0., 1., 0., 0., 0.],\n",
       "       [0., 0., 0., 1., 0.]])"
      ]
     },
     "execution_count": 42,
     "metadata": {},
     "output_type": "execute_result"
    }
   ],
   "source": [
    "def b_matrix(N, idx_list): # idx_list is a list of valid indices, e.g. N=5, idx_list=[1,3]\n",
    "    return np.identity(N)[idx_list]\n",
    "\n",
    "B= b_matrix(5,[1,3])\n",
    "B"
   ]
  },
  {
   "cell_type": "markdown",
   "id": "b77f215e-e4d0-4976-9ed6-7ee210c689a6",
   "metadata": {},
   "source": [
    "3. Write down a matrix equation for the full problem (Hint: Consider the matrix $C=\\begin{pmatrix}D\\\\B\\end{pmatrix}$). Discuss the rank of the matrix and deduce a way to numerically solve the linear system. "
   ]
  },
  {
   "cell_type": "markdown",
   "id": "7d3fb1db",
   "metadata": {},
   "source": [
    "Find best fitting solution for\n",
    "$D\\vec x = \\vec v \\text{ and } B\\vec x =  \\vec{u}\\prime \\Leftrightarrow\n",
    "C \\vec x = \n",
    "\\left[{\\begin{array}{c}\n",
    "    \\vec{v}\\\\\n",
    "    \\vec{u}\\prime\\\\\n",
    "\\end{array}}\\right]$\n",
    "\n",
    "with $\\vec{v} = g(\\vec x)$ and \n",
    "$\\vec{u}\\prime = \\left({\\begin{array}{c}\n",
    "y_{i_1}\\\\\n",
    "y_{i_2}\\\\\n",
    "\\vdots\\\\\n",
    "y_{i_m}\\\\\n",
    "\\end{array}}\\right)$\n",
    "m points given\n"
   ]
  },
  {
   "cell_type": "markdown",
   "id": "a7bf2f85-2117-48ca-837a-1470f008a3ad",
   "metadata": {},
   "source": [
    "$C = \\left[\\begin{array}{c}\n",
    "    D\\\\\n",
    "    B\n",
    "\\end{array}\n",
    "\\right]\n",
    "= \\left[ \n",
    "    {\\begin{array}{ccccc} \n",
    "        -1 & 1 & \\ldots & & 0\\\\\n",
    "        1 & -2 & 1 & \\ldots & 0 \\\\\n",
    "        \\vdots & &  \\ddots & & \\vdots\\\\\n",
    "        0 & \\ldots & 1 & -2 & 1\\\\\n",
    "        0 & &\\ldots  & 1 & -1\\\\\n",
    "        \\ldots & 1 & \\ldots & 0 & \\ldots\\\\\n",
    "        \\ldots & 0 & \\ldots & 1 & \\ldots\\\\\n",
    "    \\end{array}\n",
    "}\\right] \n",
    "\\sim \\left[ \n",
    "    {\\begin{array}{ccccc} \n",
    "        -1 & 1 & \\ldots & & 0\\\\\n",
    "        0 & -1 & 1 & \\ldots & 0 \\\\\n",
    "        \\vdots & &  \\ddots & & \\vdots\\\\\n",
    "        0 & \\ldots & 0 & -1 & 1\\\\\n",
    "        0 & &\\ldots  & 1 & -1\\\\\n",
    "        \\ldots & 1 & \\ldots & 0 & \\ldots\\\\\n",
    "        \\ldots & 0 & \\ldots & 1 & \\ldots\\\\\n",
    "    \\end{array}\n",
    "}\\right]$\n",
    "\n",
    "\n",
    "$\\sim \\left[ \n",
    "    {\\begin{array}{ccccc} \n",
    "        -1 & 0 & \\ldots & & 1\\\\\n",
    "        0 & -1 & 0 & \\ldots & 1 \\\\\n",
    "        \\vdots & &  \\ddots & & \\vdots\\\\\n",
    "        0 & \\ldots & 0 & -1 & 1\\\\\n",
    "        0 & &\\ldots  & 0 & 0\\\\\n",
    "        \\ldots & 1 & \\ldots & 0 & \\ldots\\\\\n",
    "        \\ldots & 0 & \\ldots & 1 & \\ldots\\\\\n",
    "    \\end{array}\n",
    "}\\right]\n",
    "\\sim \\left[ \n",
    "    {\\begin{array}{ccccc} \n",
    "        1 & 0 & \\ldots & & 0\\\\\n",
    "        0 & \\color{orange}{0} & 0 & \\ldots & \\color{orange}{1} \\\\\n",
    "        \\vdots & &  \\ddots & & \\vdots\\\\\n",
    "        0 & \\ldots & 0 & 1 & 0\\\\\n",
    "        0 & &\\ldots  & 0 & 0\\\\\n",
    "        \\ldots & \\color{orange}{1} & \\ldots & 0 & \\ldots\\\\\n",
    "        \\ldots & 0 & \\ldots & 1 & \\ldots\\\\\n",
    "    \\end{array}\n",
    "}\\right]$\n",
    "\n",
    "$\n",
    "\\text{if } \\text{rank}(B) \\geq 1 \\Rightarrow \\text{rank}(C) = n\n",
    "\\Rightarrow C \\text{ is 1-to-1}\n",
    "$\n",
    "\n"
   ]
  },
  {
   "cell_type": "markdown",
   "id": "a0ba87f1-ef8b-4f43-af1e-083361ba034d",
   "metadata": {},
   "source": [
    "Implement a function that creates matrix $C$"
   ]
  },
  {
   "cell_type": "code",
   "execution_count": 43,
   "id": "7b773fb4-21d7-4790-b663-0e9e86b3498c",
   "metadata": {},
   "outputs": [
    {
     "data": {
      "text/plain": [
       "array([[-1.,  1.,  0.,  0.,  0.],\n",
       "       [ 1., -2.,  1.,  0.,  0.],\n",
       "       [ 0.,  1., -2.,  1.,  0.],\n",
       "       [ 0.,  0.,  1., -2.,  1.],\n",
       "       [ 0.,  0.,  0.,  1., -1.],\n",
       "       [ 0.,  1.,  0.,  0.,  0.],\n",
       "       [ 0.,  0.,  0.,  1.,  0.]])"
      ]
     },
     "execution_count": 43,
     "metadata": {},
     "output_type": "execute_result"
    }
   ],
   "source": [
    "def c_matrix(lapl, b_mat):\n",
    "    return np.array([*lapl, *b_mat])\n",
    "\n",
    "c_matrix(lapl=D,b_mat=B)"
   ]
  },
  {
   "cell_type": "markdown",
   "id": "10a3d136-f5f3-4c1b-9c0a-ece58f891dfe",
   "metadata": {},
   "source": [
    "What explicit formula can you use to compute the pseudo-inverse of $C$ (justify)?"
   ]
  },
  {
   "cell_type": "markdown",
   "id": "38a3f0df",
   "metadata": {},
   "source": [
    "As $C$ is 1-to-1 $\\Rightarrow C^+ = (C^T C)^{-1}C^{-1}$"
   ]
  },
  {
   "cell_type": "markdown",
   "id": "3726eb03-0c82-4aed-b179-77ff947583c3",
   "metadata": {},
   "source": [
    "Implement a function that return the solution of the problem. You can either use the formula above (you may then use the [linalg.inv](https://numpy.org/doc/stable/reference/generated/numpy.linalg.inv.html) or compute the pseudo-inverse using [linalg.pinv](https://numpy.org/doc/stable/reference/generated/numpy.linalg.pinv.html)."
   ]
  },
  {
   "cell_type": "code",
   "execution_count": 57,
   "id": "79f8c6d1-7b92-48b6-bb90-e888aaa41243",
   "metadata": {},
   "outputs": [],
   "source": [
    "# v is a vector of size N\n",
    "# u is a vector of size len(idx_list)\n",
    "def solve_poisson(N, v, idx_list, u): \n",
    "    c = c_matrix(lapl_matrix(N), b_matrix(N, idx_list))\n",
    "    c_plus = np.linalg.pinv(c)\n",
    "    y = np.concatenate([v, u], axis=0)\n",
    "    return c_plus@y"
   ]
  },
  {
   "cell_type": "markdown",
   "id": "ff6184e1-e308-47d1-8b72-ab4559b48adb",
   "metadata": {},
   "source": [
    "4. Let us now consider the solutions of the particular case $g(x) = 0, \\forall x\\in\\mathbb{R}$. What are the analytical solutions that would solve Poisson equation ?"
   ]
  },
  {
   "cell_type": "markdown",
   "id": "16d4add7",
   "metadata": {},
   "source": [
    "The solutions are $\\int \\left( \\int 0 dx \\right) dx$ = c_1 x + c_2\n",
    "\n",
    "We don't consider Dirichlet for now $f\\prime(x_0) = f\\prime(x_1) = 0 \\text{ as } f(x) = c_1 \\Rightarrow c_1 = 0$ "
   ]
  },
  {
   "cell_type": "markdown",
   "id": "05c59230-026b-484c-9fc7-25992d1edf56",
   "metadata": {},
   "source": [
    "<Your answer here>"
   ]
  },
  {
   "cell_type": "markdown",
   "id": "4a33db39-077d-4775-a55d-ae5bd7400b23",
   "metadata": {},
   "source": [
    "Let us verify that our implementation of the solution works with a small example"
   ]
  },
  {
   "cell_type": "code",
   "execution_count": 58,
   "id": "96381701-e737-41c1-8642-fa1a5c13924c",
   "metadata": {},
   "outputs": [],
   "source": [
    "N = 50\n",
    "v = np.zeros(N)\n",
    "idx_list = [10, 20, 30, 40]\n",
    "u = idx_list #[100, 100, 100, 100] # [1,1,1,1] # use values from a function the solution space\n",
    "sol = solve_poisson(N, v, idx_list, u)"
   ]
  },
  {
   "cell_type": "code",
   "execution_count": 60,
   "id": "2703ecfb-1755-498e-9a15-ace8d674e826",
   "metadata": {},
   "outputs": [
    {
     "data": {
      "text/plain": [
       "[<matplotlib.lines.Line2D at 0x7ff3514612e0>]"
      ]
     },
     "execution_count": 60,
     "metadata": {},
     "output_type": "execute_result"
    },
    {
     "data": {
      "image/png": "[encoded data removed]",
      "text/plain": [
       "<Figure size 432x288 with 1 Axes>"
      ]
     },
     "metadata": {
      "needs_background": "light"
     },
     "output_type": "display_data"
    }
   ],
   "source": [
    "plt.plot(sol) # plot the result"
   ]
  },
  {
   "cell_type": "markdown",
   "id": "04e6fc55-6c8a-4dfa-8ca0-9b45ed2f157c",
   "metadata": {},
   "source": [
    "Are the results conform to what we expected ? What happens near the boundaries ?"
   ]
  },
  {
   "cell_type": "markdown",
   "id": "204ebcfd-bcfa-4f62-aa4a-884ae0b97931",
   "metadata": {},
   "source": [
    "Yes, but the Dirichlet condition flatten the boundaries."
   ]
  },
  {
   "cell_type": "markdown",
   "id": "ecf46b87-accd-4043-8ab6-06835830699b",
   "metadata": {},
   "source": [
    "Let us use a step function for $f$ and try to solve the system"
   ]
  },
  {
   "cell_type": "code",
   "execution_count": 99,
   "id": "d81b4501-b2a5-4412-a266-d04ffa8dd2c7",
   "metadata": {},
   "outputs": [
    {
     "data": {
      "text/plain": [
       "[<matplotlib.lines.Line2D at 0x7ff3612e72e0>]"
      ]
     },
     "execution_count": 99,
     "metadata": {},
     "output_type": "execute_result"
    },
    {
     "data": {
      "image/png": "[encoded data removed]",
      "text/plain": [
       "<Figure size 432x288 with 1 Axes>"
      ]
     },
     "metadata": {
      "needs_background": "light"
     },
     "output_type": "display_data"
    }
   ],
   "source": [
    "idx_list = [10, 20, 30, 40]\n",
    "u2 = [1, 1, -1, -1]\n",
    "sol2 = solve_poisson(N, v, idx_list, u2)\n",
    "plt.plot(sol2)\n"
   ]
  },
  {
   "cell_type": "code",
   "execution_count": 98,
   "id": "31f7caca",
   "metadata": {},
   "outputs": [
    {
     "name": "stdout",
     "output_type": "stream",
     "text": [
      "MSE 0.0003156889219687547\n"
     ]
    },
    {
     "data": {
      "image/png": "[encoded data removed]",
      "text/plain": [
       "<Figure size 432x288 with 1 Axes>"
      ]
     },
     "metadata": {
      "needs_background": "light"
     },
     "output_type": "display_data"
    }
   ],
   "source": [
    "#\n",
    "# Have a look at the result\n",
    "#\n",
    "\n",
    "def derivative(N):\n",
    "    return (np.zeros((N,N),dtype=np.float64) + np.diag(\n",
    "        [-1 if i == 0 else 1 if i == N-1 else 0 for i in range(N)]\n",
    "    ) + np.diag(np.ones(N-1), 1) - np.diag(np.ones(N-1), -1))/2\n",
    "\n",
    "plt.plot(sol2)\n",
    "plt.plot(derivative(N)@sol2) # derivative \n",
    "plt.plot(lapl_matrix(N)@sol2) # laplacian\n",
    "\n",
    "print(\"MSE\", np.square(np.subtract(lapl_matrix(N)@sol2, v)).mean())\n"
   ]
  },
  {
   "cell_type": "markdown",
   "id": "4918d31c-40a2-4df3-88ec-d18a80e879e7",
   "metadata": {},
   "source": [
    "What do you observe and what is the reason for that ? \n"
   ]
  },
  {
   "cell_type": "markdown",
   "id": "4bfa82bd",
   "metadata": {},
   "source": [
    "It is not a step function, because the step function doesn't fit the poisson equation with $g(x)=0$. The error is incredibly small. "
   ]
  },
  {
   "cell_type": "markdown",
   "id": "26501d68-552e-44ae-a89a-d5a74a2fba79",
   "metadata": {},
   "source": [
    "<Your answer here>"
   ]
  },
  {
   "cell_type": "markdown",
   "id": "b520b2c6-7c84-4c3e-be16-8eb866648a97",
   "metadata": {},
   "source": [
    "5. Let us now consider the application of the Poisson equation to electrostatic. Knowing a distribution of electric charges, we can solve it to compute the electric potential. The distribution of electric charges will be very simple, consisting of two punctual charges"
   ]
  },
  {
   "cell_type": "code",
   "execution_count": 93,
   "id": "96932aa1-74aa-4f4e-bbf5-df0f0d85c47c",
   "metadata": {},
   "outputs": [
    {
     "data": {
      "text/plain": [
       "[<matplotlib.lines.Line2D at 0x7ff370971250>]"
      ]
     },
     "execution_count": 93,
     "metadata": {},
     "output_type": "execute_result"
    },
    {
     "data": {
      "image/png": "[encoded data removed]",
      "text/plain": [
       "<Figure size 432x288 with 1 Axes>"
      ]
     },
     "metadata": {
      "needs_background": "light"
     },
     "output_type": "display_data"
    }
   ],
   "source": [
    "N = 50\n",
    "v3 = np.zeros(N)\n",
    "v3[10] = 1\n",
    "v3[40] = 1\n",
    "plt.plot(v3)"
   ]
  },
  {
   "cell_type": "markdown",
   "id": "42861911-53e1-4cb3-8dc7-aa617c01a7e8",
   "metadata": {},
   "source": [
    "What are the analytical solutions for this problem ? (remember the discrete derivative of a step function is a Dirac function, i.e. 0 everywhere except at one point where it is 1). "
   ]
  },
  {
   "cell_type": "markdown",
   "id": "97d45b4d",
   "metadata": {},
   "source": [
    "Linear segements between 0,10,40 and 50. Where the slope is increased by 1 at 10 and 40, only\n",
    "$\n",
    "f(x) = \\begin{cases}\n",
    "(c-1)x + a \\\\\n",
    "cx + a  \\\\\n",
    "(c+1)x + a \n",
    "\\end{cases}\n",
    "$\n",
    "\n",
    "With $f(10)=1$ and $f(40)=1$\n",
    "\n",
    "$\n",
    "f(x) = \\begin{cases}\n",
    "-x + 11 \\\\\n",
    "1\\\\\n",
    "x - 39 \n",
    "\\end{cases}\n",
    "$  "
   ]
  },
  {
   "cell_type": "markdown",
   "id": "d3ab977d-8012-42f4-a020-9deaa9ec67c8",
   "metadata": {},
   "source": [
    "<Your answer here>"
   ]
  },
  {
   "cell_type": "markdown",
   "id": "bc86b8ba-89c7-42a4-bae3-4279b8314fee",
   "metadata": {},
   "source": [
    "Compute the numerical solution"
   ]
  },
  {
   "cell_type": "code",
   "execution_count": 94,
   "id": "22eae7ab-4c91-4000-b123-7105cc4c023a",
   "metadata": {},
   "outputs": [
    {
     "data": {
      "text/plain": [
       "[<matplotlib.lines.Line2D at 0x7ff3515ffe20>]"
      ]
     },
     "execution_count": 94,
     "metadata": {},
     "output_type": "execute_result"
    },
    {
     "data": {
      "image/png": "[encoded data removed]",
      "text/plain": [
       "<Figure size 432x288 with 1 Axes>"
      ]
     },
     "metadata": {
      "needs_background": "light"
     },
     "output_type": "display_data"
    }
   ],
   "source": [
    "idx_list = [10, 20, 30, 40]\n",
    "u3 = [1, 1, 1, 1]\n",
    "sol3 = solve_poisson(N, v3, idx_list, u3)\n",
    "plt.plot(sol3)"
   ]
  },
  {
   "cell_type": "code",
   "execution_count": 97,
   "id": "ee18e62d",
   "metadata": {},
   "outputs": [
    {
     "name": "stdout",
     "output_type": "stream",
     "text": [
      "MSE 0.0030623574095248974\n"
     ]
    },
    {
     "data": {
      "image/png": "[encoded data removed]",
      "text/plain": [
       "<Figure size 432x288 with 1 Axes>"
      ]
     },
     "metadata": {
      "needs_background": "light"
     },
     "output_type": "display_data"
    }
   ],
   "source": [
    "#\n",
    "# Have a look at the result :\n",
    "#\n",
    "\n",
    "plt.plot(sol3)\n",
    "plt.plot(lapl_matrix(N)@sol3) # laplacian \n",
    "plt.plot(derivative(N)@sol3) # derivative\n",
    "\n",
    "print(\"MSE\", np.square(np.subtract(lapl_matrix(N)@sol3, v3)).mean())"
   ]
  },
  {
   "cell_type": "code",
   "execution_count": null,
   "id": "cc689793",
   "metadata": {},
   "outputs": [],
   "source": []
  },
  {
   "cell_type": "markdown",
   "id": "6e71baf6-6e79-4b39-b420-0b29d47444b5",
   "metadata": {},
   "source": [
    "What do you observe ? "
   ]
  },
  {
   "cell_type": "markdown",
   "id": "4083f1fb",
   "metadata": {},
   "source": [
    "The derivative is optimized to fit Dirichlet but has approximately the expected form."
   ]
  },
  {
   "cell_type": "markdown",
   "id": "6374c4db-95c0-4f2b-ad8a-59b54e6986bc",
   "metadata": {},
   "source": [
    "<Your answer here>"
   ]
  }
 ],
 "metadata": {
  "kernelspec": {
   "display_name": "Python 3 (ipykernel)",
   "language": "python",
   "name": "python3"
  },
  "language_info": {
   "codemirror_mode": {
    "name": "ipython",
    "version": 3
   },
   "file_extension": ".py",
   "mimetype": "text/x-python",
   "name": "python",
   "nbconvert_exporter": "python",
   "pygments_lexer": "ipython3",
   "version": "3.9.7"
  }
 },
 "nbformat": 4,
 "nbformat_minor": 5
}
